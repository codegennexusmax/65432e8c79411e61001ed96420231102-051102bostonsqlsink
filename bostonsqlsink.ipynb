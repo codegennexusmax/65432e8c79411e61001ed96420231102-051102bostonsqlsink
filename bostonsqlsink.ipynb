{
 "cells": [
  {
   "cell_type": "markdown",
   "id": "0a25fb73",
   "metadata": {},
   "source": [
    "***GENERATED CODE FOR bostonsqlsink PIPELINE.***"
   ]
  },
  {
   "cell_type": "markdown",
   "id": "3c1acffa",
   "metadata": {},
   "source": [
    "***DON'T EDIT THIS CODE.***"
   ]
  },
  {
   "cell_type": "markdown",
   "id": "8f0f709a",
   "metadata": {},
   "source": [
    "***CONNECTOR FUNCTIONS TO READ DATA.***"
   ]
  },
  {
   "cell_type": "code",
   "execution_count": null,
   "id": "a529daea",
   "metadata": {},
   "outputs": [],
   "source": [
    "import os\n",
    "import pandas as pd\n",
    "from hdfs3 import HDFileSystem\n",
    "import datetime\n",
    "import logging\n",
    "import warnings\n",
    "warnings.filterwarnings('ignore')\n",
    "logging.basicConfig(format='%(levelname)s:%(message)s', level=logging.INFO)\n",
    "\n",
    "\n",
    "class HDFSConnector:\n",
    "\n",
    "    def fetch(spark, config):\n",
    "        ################### INPUT HADOOP HOST PORT TO CONNECT WITH ###############################\n",
    "        hdfs_server = str(os.environ['HDFS_SERVER'])\n",
    "        hdfs_port = int(os.environ['HDFS_PORT'])\n",
    "        hdfs = HDFileSystem(host=hdfs_server, port=hdfs_port)\n",
    "        #hdfs = HDFileSystem(host=eval(config)['host'], port=eval(config)['port'])\n",
    "        with hdfs.open(eval(config)['url']) as f:\n",
    "            dfPd = pd.read_csv(f, error_bad_lines=False)\n",
    "        df = spark.createDataFrame(dfPd)\n",
    "        display(df.limit(2).toPandas())\n",
    "        return df\n",
    "\n",
    "    def put(df, spark, config):\n",
    "        return df.write.format('csv').options(header='true' if eval(config)[\"is_header\"] == \"Use Header Line\" else 'false',\n",
    "                                              delimiter=eval(config)[\"delimiter\"]).save((\"%s %s\") % (datetime.datetime.now().strftime(\"%Y-%m-%d %H.%M.%S\")+\"_\", eval(config)['url']))\n"
   ]
  },
  {
   "cell_type": "markdown",
   "id": "ec2b96ac",
   "metadata": {},
   "source": [
    "***OPERATION FUNCTIONS***"
   ]
  },
  {
   "cell_type": "code",
   "execution_count": null,
   "id": "138daeb4",
   "metadata": {},
   "outputs": [],
   "source": [
    "# No Function Applied in Data Prep\n"
   ]
  },
  {
   "cell_type": "markdown",
   "id": "66e11ead",
   "metadata": {},
   "source": [
    "***CONNECTOR FUNCTIONS TO WRITE DATA.***"
   ]
  },
  {
   "cell_type": "code",
   "execution_count": null,
   "id": "6d907f0e",
   "metadata": {},
   "outputs": [],
   "source": [
    "import warnings\n",
    "warnings.filterwarnings('ignore')\n",
    "\n",
    "\n",
    "class RDBMSConnector:\n",
    "\n",
    "    def fetch(spark, config):\n",
    "        drivers = {\"mssql\": \"com.microsoft.sqlserver.jdbc.SQLServerDriver\"}\n",
    "        return spark.read.format(\"jdbc\") \\\n",
    "            .option(\"url\", f\"jdbc:sqlserver://{eval(config)['host']}:{eval(config)['port']};databaseName={eval(config)['database']}\") \\\n",
    "            .option(eval(config)['qtype'], eval(config)['query']) \\\n",
    "            .option(\"user\", eval(config)['user']) \\\n",
    "            .option(\"password\", eval(config)['password']) \\\n",
    "            .option(\"driver\",  \"com.microsoft.sqlserver.jdbc.SQLServerDriver\") \\\n",
    "            .load()\n",
    "\n",
    "    def put(df, spark, config):\n",
    "        drivers = {\"mssql\": \"com.microsoft.sqlserver.jdbc.SQLServerDriver\"}\n",
    "        # Write modes: overwrite, append\n",
    "        df.write.mode(eval(config)['writemode'])\\\n",
    "            .format('jdbc') \\\n",
    "            .option(\"url\", f\"jdbc:{eval(config)['dbtype']}://{eval(config)['host']}:{eval(config)['port']};databaseName={eval(config)['database']}\") \\\n",
    "            .option(\"dbtable\", eval(config)['table']) \\\n",
    "            .option(\"user\", eval(config)['user']) \\\n",
    "            .option(\"password\", eval(config)['password']) \\\n",
    "            .option(\"driver\",  \"com.microsoft.sqlserver.jdbc.SQLServerDriver\") \\\n",
    "            .save()\n"
   ]
  },
  {
   "cell_type": "markdown",
   "id": "c550f6d2",
   "metadata": {},
   "source": [
    "***READING DATAFRAME***"
   ]
  },
  {
   "cell_type": "code",
   "execution_count": null,
   "id": "f66879f2",
   "metadata": {},
   "outputs": [],
   "source": [
    "############## CREATE SPARK SESSION ############################ ENTER YOUR SPARK MASTER IP AND PORT TO CONNECT TO SERVER ################\n",
    "from pyspark.sql import SparkSession\n",
    "spark = SparkSession.builder.master('local[1]').getOrCreate()\n",
    "#%run bostonsqlsinkHooks.ipynb\n",
    "try:\n",
    "\t#sourcePreExecutionHook()\n",
    "\n",
    "\tbotonhouingtetl = HDFSConnector.fetch(spark, \"{'url': '/FileStore/platform/testdata/1698901611693_Boston_Housing_TestL.csv', 'filename': 'Boston_Housing_TestL.csv', 'delimiter': ',', 'file_type': 'Delimeted', 'dbfs_token': '', 'dbfs_domain': '', 'FilePath': '/Real Estate/Boston Housing/Boston_Housing_TestL.csv', 'viewFileName': 'Boston_Housing_TestL.csv', 'is_header': 'Use Header Line', 'baseType': 'hdfs', 'server_url': '/numtraPlatform/NumtraPlatformV3/uploads/platform/', 'results_url': 'http://ml.numtra.com:44040/api/read/hdfs'}\")\n",
    "\n",
    "except Exception as ex: \n",
    "\tlogging.error(ex)\n",
    "#spark.stop()\n"
   ]
  },
  {
   "cell_type": "markdown",
   "id": "40b760a5",
   "metadata": {},
   "source": [
    "***PERFORMING OPERATIONS***"
   ]
  },
  {
   "cell_type": "code",
   "execution_count": null,
   "id": "64ad851f",
   "metadata": {},
   "outputs": [],
   "source": [
    "#%run bostonsqlsinkHooks.ipynb\n",
    "try:\n",
    "\t#operationPreExecutionHook()\n",
    "\n",
    "# No Function Applied in Data Prep\n",
    "datapreparation = botonhouingtetl\n",
    "\t#operationPostExecutionHook(datapreparation)\n",
    "\n",
    "except Exception as ex: \n",
    "\tlogging.error(ex)\n"
   ]
  },
  {
   "cell_type": "markdown",
   "id": "e699946f",
   "metadata": {},
   "source": [
    "***WRITING DATAFRAME***"
   ]
  },
  {
   "cell_type": "code",
   "execution_count": null,
   "id": "b49b7fd2",
   "metadata": {},
   "outputs": [],
   "source": [
    "#%run bostonsqlsinkHooks.ipynb\n",
    "try:\n",
    "\t#sinkPreExecutionHook()\n",
    "\n",
    "\tsqlserver = RDBMSConnector.put(spark, \"{'host': '3.17.87.4', 'port': '1433', 'password': 'Passw0rd@123', 'database': 'testdb', 'user': 'SA', 'optionalDB': '', 'table_option': 'create_new_table', 'table': 'BostonTestL_SQL', 'new_table_name': 'BostonTestL_SQL', 'writemode': '', 'is_header': 'Use Header Line', 'use_generatedColumns': False, 'generatedColumns': [], 'server_url': '/numtraPlatform/NumtraPlatformV3/uploads/platform/'}\")\n",
    "\t#sinkPostExecutionHook(sqlserver)\n",
    "\n",
    "except Exception as ex: \n",
    "\tlogging.error(ex)\n"
   ]
  }
 ],
 "metadata": {},
 "nbformat": 4,
 "nbformat_minor": 5
}
